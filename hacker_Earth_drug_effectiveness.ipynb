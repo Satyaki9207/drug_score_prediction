{
 "cells": [
  {
   "cell_type": "code",
   "execution_count": 84,
   "metadata": {},
   "outputs": [
    {
     "data": {
      "text/plain": [
       "'C:\\\\Satyaki\\\\hackathons\\\\std_drug_effectiveness\\\\dataset'"
      ]
     },
     "execution_count": 84,
     "metadata": {},
     "output_type": "execute_result"
    }
   ],
   "source": [
    "import os\n",
    "os.chdir('C:/Satyaki/hackathons/std_drug_effectiveness/dataset')\n",
    "os.getcwd()"
   ]
  },
  {
   "cell_type": "code",
   "execution_count": 69,
   "metadata": {},
   "outputs": [],
   "source": [
    "import numpy as np\n",
    "import pandas as pd\n",
    "import matplotlib.pyplot as plt\n",
    "%matplotlib inline\n",
    "from datetime import datetime,timedelta\n",
    "from collections import Counter\n",
    "import spacy\n",
    "import en_core_web_sm\n",
    "import re\n",
    "import copy\n",
    "from sklearn import metrics\n",
    "from sklearn.cluster import KMeans\n",
    "import seaborn as sns\n",
    "from sklearn.model_selection import train_test_split,GridSearchCV,KFold\n",
    "from sklearn.pipeline import Pipeline\n",
    "from sklearn.preprocessing import StandardScaler,OneHotEncoder\n",
    "from sklearn.compose import ColumnTransformer\n",
    "from sklearn.metrics import mean_squared_error\n",
    "from math import sqrt"
   ]
  },
  {
   "cell_type": "code",
   "execution_count": 6,
   "metadata": {},
   "outputs": [
    {
     "data": {
      "text/html": [
       "<div>\n",
       "<style scoped>\n",
       "    .dataframe tbody tr th:only-of-type {\n",
       "        vertical-align: middle;\n",
       "    }\n",
       "\n",
       "    .dataframe tbody tr th {\n",
       "        vertical-align: top;\n",
       "    }\n",
       "\n",
       "    .dataframe thead th {\n",
       "        text-align: right;\n",
       "    }\n",
       "</style>\n",
       "<table border=\"1\" class=\"dataframe\">\n",
       "  <thead>\n",
       "    <tr style=\"text-align: right;\">\n",
       "      <th></th>\n",
       "      <th>name_of_drug</th>\n",
       "      <th>use_case_for_drug</th>\n",
       "      <th>review_by_patient</th>\n",
       "      <th>effectiveness_rating</th>\n",
       "      <th>drug_approved_by_UIC</th>\n",
       "      <th>number_of_times_prescribed</th>\n",
       "      <th>base_score</th>\n",
       "    </tr>\n",
       "    <tr>\n",
       "      <th>patient_id</th>\n",
       "      <th></th>\n",
       "      <th></th>\n",
       "      <th></th>\n",
       "      <th></th>\n",
       "      <th></th>\n",
       "      <th></th>\n",
       "      <th></th>\n",
       "    </tr>\n",
       "  </thead>\n",
       "  <tbody>\n",
       "    <tr>\n",
       "      <th>206461</th>\n",
       "      <td>Valsartan</td>\n",
       "      <td>Left Ventricular Dysfunction</td>\n",
       "      <td>\"It has no side effect, I take it in combinati...</td>\n",
       "      <td>9</td>\n",
       "      <td>20-May-12</td>\n",
       "      <td>27</td>\n",
       "      <td>8.022969</td>\n",
       "    </tr>\n",
       "    <tr>\n",
       "      <th>95260</th>\n",
       "      <td>Guanfacine</td>\n",
       "      <td>ADHD</td>\n",
       "      <td>\"My son is halfway through his fourth week of ...</td>\n",
       "      <td>8</td>\n",
       "      <td>27-Apr-10</td>\n",
       "      <td>192</td>\n",
       "      <td>7.858458</td>\n",
       "    </tr>\n",
       "    <tr>\n",
       "      <th>92703</th>\n",
       "      <td>Lybrel</td>\n",
       "      <td>Birth Control</td>\n",
       "      <td>\"I used to take another oral contraceptive, wh...</td>\n",
       "      <td>5</td>\n",
       "      <td>14-Dec-09</td>\n",
       "      <td>17</td>\n",
       "      <td>6.341969</td>\n",
       "    </tr>\n",
       "    <tr>\n",
       "      <th>35696</th>\n",
       "      <td>Buprenorphine / naloxone</td>\n",
       "      <td>Opiate Dependence</td>\n",
       "      <td>\"Suboxone has completely turned my life around...</td>\n",
       "      <td>9</td>\n",
       "      <td>27-Nov-16</td>\n",
       "      <td>37</td>\n",
       "      <td>6.590176</td>\n",
       "    </tr>\n",
       "    <tr>\n",
       "      <th>155963</th>\n",
       "      <td>Cialis</td>\n",
       "      <td>Benign Prostatic Hyperplasia</td>\n",
       "      <td>\"2nd day on 5mg started to work with rock hard...</td>\n",
       "      <td>2</td>\n",
       "      <td>28-Nov-15</td>\n",
       "      <td>43</td>\n",
       "      <td>6.144782</td>\n",
       "    </tr>\n",
       "  </tbody>\n",
       "</table>\n",
       "</div>"
      ],
      "text/plain": [
       "                        name_of_drug             use_case_for_drug  \\\n",
       "patient_id                                                           \n",
       "206461                     Valsartan  Left Ventricular Dysfunction   \n",
       "95260                     Guanfacine                          ADHD   \n",
       "92703                         Lybrel                 Birth Control   \n",
       "35696       Buprenorphine / naloxone             Opiate Dependence   \n",
       "155963                        Cialis  Benign Prostatic Hyperplasia   \n",
       "\n",
       "                                            review_by_patient  \\\n",
       "patient_id                                                      \n",
       "206461      \"It has no side effect, I take it in combinati...   \n",
       "95260       \"My son is halfway through his fourth week of ...   \n",
       "92703       \"I used to take another oral contraceptive, wh...   \n",
       "35696       \"Suboxone has completely turned my life around...   \n",
       "155963      \"2nd day on 5mg started to work with rock hard...   \n",
       "\n",
       "            effectiveness_rating drug_approved_by_UIC  \\\n",
       "patient_id                                              \n",
       "206461                         9            20-May-12   \n",
       "95260                          8            27-Apr-10   \n",
       "92703                          5            14-Dec-09   \n",
       "35696                          9            27-Nov-16   \n",
       "155963                         2            28-Nov-15   \n",
       "\n",
       "            number_of_times_prescribed  base_score  \n",
       "patient_id                                          \n",
       "206461                              27    8.022969  \n",
       "95260                              192    7.858458  \n",
       "92703                               17    6.341969  \n",
       "35696                               37    6.590176  \n",
       "155963                              43    6.144782  "
      ]
     },
     "execution_count": 6,
     "metadata": {},
     "output_type": "execute_result"
    }
   ],
   "source": [
    "df_train=pd.read_csv('train.csv',index_col='patient_id')\n",
    "df_test=pd.read_csv('test.csv',index_col='patient_id')\n",
    "df_train.head()"
   ]
  },
  {
   "cell_type": "code",
   "execution_count": 7,
   "metadata": {},
   "outputs": [
    {
     "data": {
      "text/html": [
       "<div>\n",
       "<style scoped>\n",
       "    .dataframe tbody tr th:only-of-type {\n",
       "        vertical-align: middle;\n",
       "    }\n",
       "\n",
       "    .dataframe tbody tr th {\n",
       "        vertical-align: top;\n",
       "    }\n",
       "\n",
       "    .dataframe thead th {\n",
       "        text-align: right;\n",
       "    }\n",
       "</style>\n",
       "<table border=\"1\" class=\"dataframe\">\n",
       "  <thead>\n",
       "    <tr style=\"text-align: right;\">\n",
       "      <th></th>\n",
       "      <th>name_of_drug</th>\n",
       "      <th>review_by_patient</th>\n",
       "      <th>drug_approved_by_UIC</th>\n",
       "      <th>number_of_times_prescribed</th>\n",
       "      <th>use_case_for_drug</th>\n",
       "      <th>effectiveness_rating</th>\n",
       "    </tr>\n",
       "    <tr>\n",
       "      <th>patient_id</th>\n",
       "      <th></th>\n",
       "      <th></th>\n",
       "      <th></th>\n",
       "      <th></th>\n",
       "      <th></th>\n",
       "      <th></th>\n",
       "    </tr>\n",
       "  </thead>\n",
       "  <tbody>\n",
       "    <tr>\n",
       "      <th>163740</th>\n",
       "      <td>Mirtazapine</td>\n",
       "      <td>\"I&amp;#039;ve tried a few antidepressants over th...</td>\n",
       "      <td>28-Feb-12</td>\n",
       "      <td>22</td>\n",
       "      <td>Depression</td>\n",
       "      <td>10</td>\n",
       "    </tr>\n",
       "    <tr>\n",
       "      <th>39293</th>\n",
       "      <td>Contrave</td>\n",
       "      <td>\"Contrave combines drugs that were used for al...</td>\n",
       "      <td>5-Mar-17</td>\n",
       "      <td>35</td>\n",
       "      <td>Weight Loss</td>\n",
       "      <td>9</td>\n",
       "    </tr>\n",
       "    <tr>\n",
       "      <th>208087</th>\n",
       "      <td>Zyclara</td>\n",
       "      <td>\"4 days in on first 2 weeks.  Using on arms an...</td>\n",
       "      <td>3-Jul-14</td>\n",
       "      <td>13</td>\n",
       "      <td>Keratosis</td>\n",
       "      <td>4</td>\n",
       "    </tr>\n",
       "    <tr>\n",
       "      <th>23295</th>\n",
       "      <td>Methadone</td>\n",
       "      <td>\"Ive been on Methadone for over ten years and ...</td>\n",
       "      <td>18-Oct-16</td>\n",
       "      <td>21</td>\n",
       "      <td>Opiate Withdrawal</td>\n",
       "      <td>7</td>\n",
       "    </tr>\n",
       "    <tr>\n",
       "      <th>97013</th>\n",
       "      <td>Ambien</td>\n",
       "      <td>\"Ditto on rebound sleepless when discontinued....</td>\n",
       "      <td>13-Jan-15</td>\n",
       "      <td>44</td>\n",
       "      <td>Insomnia</td>\n",
       "      <td>2</td>\n",
       "    </tr>\n",
       "  </tbody>\n",
       "</table>\n",
       "</div>"
      ],
      "text/plain": [
       "           name_of_drug                                  review_by_patient  \\\n",
       "patient_id                                                                   \n",
       "163740      Mirtazapine  \"I&#039;ve tried a few antidepressants over th...   \n",
       "39293          Contrave  \"Contrave combines drugs that were used for al...   \n",
       "208087          Zyclara  \"4 days in on first 2 weeks.  Using on arms an...   \n",
       "23295         Methadone  \"Ive been on Methadone for over ten years and ...   \n",
       "97013            Ambien  \"Ditto on rebound sleepless when discontinued....   \n",
       "\n",
       "           drug_approved_by_UIC  number_of_times_prescribed  \\\n",
       "patient_id                                                    \n",
       "163740                28-Feb-12                          22   \n",
       "39293                  5-Mar-17                          35   \n",
       "208087                 3-Jul-14                          13   \n",
       "23295                 18-Oct-16                          21   \n",
       "97013                 13-Jan-15                          44   \n",
       "\n",
       "            use_case_for_drug  effectiveness_rating  \n",
       "patient_id                                           \n",
       "163740             Depression                    10  \n",
       "39293             Weight Loss                     9  \n",
       "208087              Keratosis                     4  \n",
       "23295       Opiate Withdrawal                     7  \n",
       "97013                Insomnia                     2  "
      ]
     },
     "execution_count": 7,
     "metadata": {},
     "output_type": "execute_result"
    }
   ],
   "source": [
    "df_test.head()"
   ]
  },
  {
   "cell_type": "markdown",
   "metadata": {},
   "source": [
    "## Exploratory data analysis"
   ]
  },
  {
   "cell_type": "code",
   "execution_count": 8,
   "metadata": {},
   "outputs": [
    {
     "name": "stdout",
     "output_type": "stream",
     "text": [
      "(32165, 7)\n",
      "(10760, 6)\n"
     ]
    }
   ],
   "source": [
    "print(df_train.shape)\n",
    "print(df_test.shape)"
   ]
  },
  {
   "cell_type": "code",
   "execution_count": 9,
   "metadata": {},
   "outputs": [
    {
     "name": "stdout",
     "output_type": "stream",
     "text": [
      "name_of_drug                  0\n",
      "use_case_for_drug             0\n",
      "review_by_patient             0\n",
      "effectiveness_rating          0\n",
      "drug_approved_by_UIC          0\n",
      "number_of_times_prescribed    0\n",
      "base_score                    0\n",
      "dtype: int64\n",
      "----------------------------------------\n",
      "name_of_drug                  0\n",
      "use_case_for_drug             0\n",
      "review_by_patient             0\n",
      "effectiveness_rating          0\n",
      "drug_approved_by_UIC          0\n",
      "number_of_times_prescribed    0\n",
      "base_score                    0\n",
      "dtype: int64\n"
     ]
    }
   ],
   "source": [
    "print(df_train.isnull().sum())\n",
    "print('--'*20)\n",
    "print(df_train.isnull().sum())"
   ]
  },
  {
   "cell_type": "code",
   "execution_count": 10,
   "metadata": {},
   "outputs": [
    {
     "name": "stdout",
     "output_type": "stream",
     "text": [
      "Number of unique drugs in train: 2220\n",
      "Number of unique drugs in test: 1478\n"
     ]
    }
   ],
   "source": [
    "# number of unique drugs\n",
    "print('Number of unique drugs in train:',len(df_train['name_of_drug'].unique()))\n",
    "print('Number of unique drugs in test:',len(df_test['name_of_drug'].unique()))"
   ]
  },
  {
   "cell_type": "code",
   "execution_count": 11,
   "metadata": {},
   "outputs": [
    {
     "data": {
      "text/html": [
       "<div>\n",
       "<style scoped>\n",
       "    .dataframe tbody tr th:only-of-type {\n",
       "        vertical-align: middle;\n",
       "    }\n",
       "\n",
       "    .dataframe tbody tr th {\n",
       "        vertical-align: top;\n",
       "    }\n",
       "\n",
       "    .dataframe thead th {\n",
       "        text-align: right;\n",
       "    }\n",
       "</style>\n",
       "<table border=\"1\" class=\"dataframe\">\n",
       "  <thead>\n",
       "    <tr style=\"text-align: right;\">\n",
       "      <th></th>\n",
       "      <th>name_of_drug</th>\n",
       "      <th>frequency of use</th>\n",
       "    </tr>\n",
       "  </thead>\n",
       "  <tbody>\n",
       "    <tr>\n",
       "      <th>71</th>\n",
       "      <td>Levonorgestrel</td>\n",
       "      <td>724</td>\n",
       "    </tr>\n",
       "    <tr>\n",
       "      <th>42</th>\n",
       "      <td>Etonogestrel</td>\n",
       "      <td>628</td>\n",
       "    </tr>\n",
       "    <tr>\n",
       "      <th>53</th>\n",
       "      <td>Ethinyl estradiol / norethindrone</td>\n",
       "      <td>547</td>\n",
       "    </tr>\n",
       "    <tr>\n",
       "      <th>40</th>\n",
       "      <td>Ethinyl estradiol / norgestimate</td>\n",
       "      <td>425</td>\n",
       "    </tr>\n",
       "    <tr>\n",
       "      <th>41</th>\n",
       "      <td>Nexplanon</td>\n",
       "      <td>397</td>\n",
       "    </tr>\n",
       "    <tr>\n",
       "      <th>5</th>\n",
       "      <td>Ethinyl estradiol / levonorgestrel</td>\n",
       "      <td>394</td>\n",
       "    </tr>\n",
       "    <tr>\n",
       "      <th>164</th>\n",
       "      <td>Phentermine</td>\n",
       "      <td>296</td>\n",
       "    </tr>\n",
       "    <tr>\n",
       "      <th>11</th>\n",
       "      <td>Sertraline</td>\n",
       "      <td>281</td>\n",
       "    </tr>\n",
       "    <tr>\n",
       "      <th>55</th>\n",
       "      <td>Escitalopram</td>\n",
       "      <td>265</td>\n",
       "    </tr>\n",
       "    <tr>\n",
       "      <th>338</th>\n",
       "      <td>Mirena</td>\n",
       "      <td>241</td>\n",
       "    </tr>\n",
       "  </tbody>\n",
       "</table>\n",
       "</div>"
      ],
      "text/plain": [
       "                           name_of_drug  frequency of use\n",
       "71                       Levonorgestrel               724\n",
       "42                         Etonogestrel               628\n",
       "53    Ethinyl estradiol / norethindrone               547\n",
       "40     Ethinyl estradiol / norgestimate               425\n",
       "41                            Nexplanon               397\n",
       "5    Ethinyl estradiol / levonorgestrel               394\n",
       "164                         Phentermine               296\n",
       "11                           Sertraline               281\n",
       "55                         Escitalopram               265\n",
       "338                              Mirena               241"
      ]
     },
     "execution_count": 11,
     "metadata": {},
     "output_type": "execute_result"
    }
   ],
   "source": [
    "drug_count_train=Counter(df_train['name_of_drug'])\n",
    "drug_count_test=Counter(df_test['name_of_drug'])\n",
    "d2=pd.DataFrame()\n",
    "d2['name_of_drug']=drug_count_train.keys()\n",
    "d2['frequency of use']=drug_count_train.values()\n",
    "d2=d2.sort_values(by='frequency of use',ascending=False)\n",
    "d2.head(10)\n"
   ]
  },
  {
   "cell_type": "code",
   "execution_count": 12,
   "metadata": {},
   "outputs": [
    {
     "name": "stdout",
     "output_type": "stream",
     "text": [
      "Number of unique Ailments in train: 636\n",
      "Number of unique Ailments in test: 461\n"
     ]
    }
   ],
   "source": [
    "# number of unique use cases\n",
    "print('Number of unique Ailments in train:',len(df_train['use_case_for_drug'].unique()))\n",
    "print('Number of unique Ailments in test:',len(df_test['use_case_for_drug'].unique()))"
   ]
  },
  {
   "cell_type": "code",
   "execution_count": 13,
   "metadata": {},
   "outputs": [
    {
     "data": {
      "text/html": [
       "<div>\n",
       "<style scoped>\n",
       "    .dataframe tbody tr th:only-of-type {\n",
       "        vertical-align: middle;\n",
       "    }\n",
       "\n",
       "    .dataframe tbody tr th {\n",
       "        vertical-align: top;\n",
       "    }\n",
       "\n",
       "    .dataframe thead th {\n",
       "        text-align: right;\n",
       "    }\n",
       "</style>\n",
       "<table border=\"1\" class=\"dataframe\">\n",
       "  <thead>\n",
       "    <tr style=\"text-align: right;\">\n",
       "      <th></th>\n",
       "      <th>Ailment</th>\n",
       "      <th>Number of cases</th>\n",
       "    </tr>\n",
       "  </thead>\n",
       "  <tbody>\n",
       "    <tr>\n",
       "      <th>2</th>\n",
       "      <td>Birth Control</td>\n",
       "      <td>5795</td>\n",
       "    </tr>\n",
       "    <tr>\n",
       "      <th>5</th>\n",
       "      <td>Depression</td>\n",
       "      <td>1791</td>\n",
       "    </tr>\n",
       "    <tr>\n",
       "      <th>15</th>\n",
       "      <td>Pain</td>\n",
       "      <td>1273</td>\n",
       "    </tr>\n",
       "    <tr>\n",
       "      <th>22</th>\n",
       "      <td>Anxiety</td>\n",
       "      <td>1174</td>\n",
       "    </tr>\n",
       "    <tr>\n",
       "      <th>20</th>\n",
       "      <td>Acne</td>\n",
       "      <td>1101</td>\n",
       "    </tr>\n",
       "    <tr>\n",
       "      <th>7</th>\n",
       "      <td>Bipolar Disorde</td>\n",
       "      <td>815</td>\n",
       "    </tr>\n",
       "    <tr>\n",
       "      <th>43</th>\n",
       "      <td>Insomnia</td>\n",
       "      <td>772</td>\n",
       "    </tr>\n",
       "    <tr>\n",
       "      <th>23</th>\n",
       "      <td>Obesity</td>\n",
       "      <td>727</td>\n",
       "    </tr>\n",
       "    <tr>\n",
       "      <th>31</th>\n",
       "      <td>Weight Loss</td>\n",
       "      <td>717</td>\n",
       "    </tr>\n",
       "    <tr>\n",
       "      <th>1</th>\n",
       "      <td>ADHD</td>\n",
       "      <td>627</td>\n",
       "    </tr>\n",
       "  </tbody>\n",
       "</table>\n",
       "</div>"
      ],
      "text/plain": [
       "            Ailment  Number of cases\n",
       "2     Birth Control             5795\n",
       "5        Depression             1791\n",
       "15             Pain             1273\n",
       "22          Anxiety             1174\n",
       "20             Acne             1101\n",
       "7   Bipolar Disorde              815\n",
       "43         Insomnia              772\n",
       "23          Obesity              727\n",
       "31      Weight Loss              717\n",
       "1              ADHD              627"
      ]
     },
     "execution_count": 13,
     "metadata": {},
     "output_type": "execute_result"
    }
   ],
   "source": [
    "# seeing the most common use cases\n",
    "ailment_count_train=Counter(df_train['use_case_for_drug'])\n",
    "ailment_count_test=Counter(df_test['use_case_for_drug'])\n",
    "\n",
    "d=pd.DataFrame()\n",
    "d['Ailment']=ailment_count_train.keys()\n",
    "d['Number of cases']=ailment_count_train.values()\n",
    "d=d.sort_values(by='Number of cases',ascending=False)\n",
    "d.head(10)"
   ]
  },
  {
   "cell_type": "code",
   "execution_count": 14,
   "metadata": {},
   "outputs": [
    {
     "data": {
      "text/plain": [
       "161"
      ]
     },
     "execution_count": 14,
     "metadata": {},
     "output_type": "execute_result"
    }
   ],
   "source": [
    "# checking if all drugs present in test set are present in train set\n",
    "set1=set(df_train['name_of_drug'])\n",
    "set2=set(df_test['name_of_drug'])\n",
    "len(set2.difference(set1))"
   ]
  },
  {
   "cell_type": "code",
   "execution_count": 15,
   "metadata": {},
   "outputs": [],
   "source": [
    "# Converting time columns to proper format\n",
    "df_train['drug_approved_by_UIC']=df_train['drug_approved_by_UIC'].apply(lambda x: datetime.strptime(x,'%d-%b-%y'))\n",
    "df_test['drug_approved_by_UIC']=df_test['drug_approved_by_UIC'].apply(lambda x: datetime.strptime(x,'%d-%b-%y'))\n",
    "\n",
    "date1_train,date2_train=df_train['drug_approved_by_UIC'].min(),df_train['drug_approved_by_UIC'].max()\n",
    "\n",
    "df_train['drug_approved_by_UIC']=df_train['drug_approved_by_UIC'].apply(lambda x: (x-date1_train).days)\n",
    "df_test['drug_approved_by_UIC']=df_test['drug_approved_by_UIC'].apply(lambda x: (x-date1_train).days)"
   ]
  },
  {
   "cell_type": "markdown",
   "metadata": {},
   "source": [
    "#### Adding a feature for drug frequency"
   ]
  },
  {
   "cell_type": "code",
   "execution_count": 16,
   "metadata": {},
   "outputs": [],
   "source": [
    "df_train['drug_frequency']=1\n",
    "for i in df_train['name_of_drug']:\n",
    "    df_train['drug_frequency']=np.where(df_train['name_of_drug']==i,drug_count_train[i],df_train['drug_frequency'])\n"
   ]
  },
  {
   "cell_type": "code",
   "execution_count": 17,
   "metadata": {},
   "outputs": [],
   "source": [
    "df_test['drug_frequency']=1\n",
    "for i in df_test['name_of_drug']:\n",
    "    df_test['drug_frequency']=np.where(df_test['name_of_drug']==i,drug_count_test[i],df_test['drug_frequency'])"
   ]
  },
  {
   "cell_type": "markdown",
   "metadata": {},
   "source": [
    "#### Classifying use cases with low number of occurences as rare"
   ]
  },
  {
   "cell_type": "code",
   "execution_count": 18,
   "metadata": {},
   "outputs": [],
   "source": [
    "def fun1(some_list,dict1):\n",
    "    '''some_list is the column where low frequency cases need to be classified as rare\n",
    "    dict1 is the dictionary containing frequency counts for elements in some_list'''\n",
    "    for i in some_list:\n",
    "        if dict1[i]<=20:\n",
    "            some_list.replace(i,'rare',inplace=True)\n",
    "    return some_list\n",
    "df_train['use_case_for_drug']=fun1(df_train['use_case_for_drug'],ailment_count_train)\n",
    "df_test['use_case_for_drug']=fun1(df_test['use_case_for_drug'],ailment_count_test)"
   ]
  },
  {
   "cell_type": "code",
   "execution_count": 19,
   "metadata": {},
   "outputs": [
    {
     "data": {
      "text/plain": [
       "Birth Control                5795\n",
       "rare                         2318\n",
       "Depression                   1791\n",
       "Pain                         1273\n",
       "Anxiety                      1174\n",
       "                             ... \n",
       "Autism                         22\n",
       "Neuralgia                      22\n",
       "Non-Small Cell Lung Cance      21\n",
       "Heart Failure                  21\n",
       "Light Sedation                 21\n",
       "Name: use_case_for_drug, Length: 153, dtype: int64"
      ]
     },
     "execution_count": 19,
     "metadata": {},
     "output_type": "execute_result"
    }
   ],
   "source": [
    "df_train['use_case_for_drug'].value_counts()"
   ]
  },
  {
   "cell_type": "markdown",
   "metadata": {},
   "source": [
    "#### Classifying reviews"
   ]
  },
  {
   "cell_type": "code",
   "execution_count": 20,
   "metadata": {},
   "outputs": [],
   "source": [
    "rev_train=copy.deepcopy(df_train['review_by_patient'])\n",
    "rev_test=copy.deepcopy(df_test['review_by_patient'])"
   ]
  },
  {
   "cell_type": "code",
   "execution_count": 21,
   "metadata": {},
   "outputs": [
    {
     "name": "stdout",
     "output_type": "stream",
     "text": [
      "\"it has no side effect, i take it in combination of bystolic 5 mg and fish oil\"\n",
      "------------------------------------------------------------\n",
      "\"my son is halfway through his fourth week of intuniv. we became concerned when he began this last week, when he started taking the highest dose he will be on. for two days, he could hardly get out of bed, was very cranky, and slept for nearly 8 hours on a drive home from school vacation (very unusual for him.) i called his doctor on monday morning and she said to stick it out a few days. see how he did at school, and with getting up in the morning. the last two days have been problem free. he is much more agreeable than ever. he is less emotional (a good thing), less cranky. he is remembering all the things he should. overall his behavior is better. \r\n",
      "we have tried many different medications and so far this is the most effective.\"\n",
      "------------------------------------------------------------\n",
      "\"i used to take another oral contraceptive, which had 21 pill cycle, and was very happy- very light periods, max 5 days, no other side effects. but it contained hormone gestodene, which is not available in us, so i switched to lybrel, because the ingredients are similar. when my other pills ended, i started lybrel immediately, on my first day of period, as the instructions said. and the period lasted for two weeks. when taking the second pack- same two weeks. and now, with third pack things got even worse- my third period lasted for two weeks and now it&#039;s the end of the third week- i still have daily brown discharge.\r\n",
      "the positive side is that i didn&#039;t have any other side effects. the idea of being period free was so tempting... alas.\"\n",
      "------------------------------------------------------------\n",
      "\"suboxone has completely turned my life around.  i feel healthier, i&#039;m excelling at my job and i always have money in my pocket and my savings account.  i had none of those before suboxone and spent years abusing oxycontin.  my paycheck was already spent by the time i got it and i started resorting to scheming and stealing to fund my addiction.  all that is history.  if you&#039;re ready to stop, there&#039;s a good chance that suboxone will put you on the path of great life again.  i have found the side-effects to be minimal compared to oxycontin.  i&#039;m actually sleeping better.   slight constipation is about it for me.  it truly is amazing. the cost pales in comparison to what i spent on oxycontin.\"\n",
      "------------------------------------------------------------\n",
      "\"2nd day on 5mg started to work with rock hard erections however experianced headache, lower bowel preassure. 3rd day erections would wake me up &amp; hurt! leg/ankles aches   severe lower bowel preassure like you need to go #2 but can&#039;t! enjoyed the initial rockhard erections but not at these side effects or $230 for months supply! i&#039;m 50 &amp; work out 3xs a week. not worth side effects!\"\n",
      "------------------------------------------------------------\n"
     ]
    }
   ],
   "source": [
    "# Text Cleaning\n",
    "rev_train=[w.strip().lower() for w in rev_train]\n",
    "for review in rev_train[:5]:\n",
    "    print(review)\n",
    "    print('---'*20)"
   ]
  },
  {
   "cell_type": "code",
   "execution_count": 23,
   "metadata": {},
   "outputs": [],
   "source": [
    "#word tokenizing \n",
    "nlp=spacy.load('en_core_web_sm')\n",
    "word_reviews=[]\n",
    "for review in rev_train:\n",
    "    a=nlp(review)\n",
    "    b=[token.text for token in a if re.search('^[a-z]',token.text)]\n",
    "    c=[w for w in b if not re.search('\\*w[&|#]039;\\*w',w)]\n",
    "    word_reviews.append(c)"
   ]
  },
  {
   "cell_type": "code",
   "execution_count": null,
   "metadata": {},
   "outputs": [],
   "source": [
    "spacy.load('en_core_web_sm')"
   ]
  },
  {
   "cell_type": "code",
   "execution_count": 24,
   "metadata": {},
   "outputs": [
    {
     "data": {
      "text/plain": [
       "32165"
      ]
     },
     "execution_count": 24,
     "metadata": {},
     "output_type": "execute_result"
    }
   ],
   "source": [
    "# removing stopwords \n",
    "stopwords=list(spacy.lang.en.stop_words.STOP_WORDS)\n",
    "custom_list=['mg','039','039ve']\n",
    "stopwords+=custom_list\n",
    "\n",
    "word_reviews2=[]\n",
    "for review in word_reviews:\n",
    "    word_reviews2.append([w for w in review if w not in stopwords])\n",
    "len(word_reviews2)"
   ]
  },
  {
   "cell_type": "code",
   "execution_count": 25,
   "metadata": {},
   "outputs": [],
   "source": [
    "# Lemmatization\n",
    "from nltk.stem import WordNetLemmatizer\n",
    "lmt_reviews=[]\n",
    "lmtzr=WordNetLemmatizer()\n",
    "for review in word_reviews2:\n",
    "    a=[lmtzr.lemmatize(token,pos='v') for token in review ]\n",
    "    lmt_reviews.append(a)\n"
   ]
  },
  {
   "cell_type": "markdown",
   "metadata": {},
   "source": [
    "### TF-IDF "
   ]
  },
  {
   "cell_type": "code",
   "execution_count": 26,
   "metadata": {},
   "outputs": [
    {
     "data": {
      "text/plain": [
       "'son halfway fourth week intuniv concern begin week start take highest dose days hardly bed cranky sleep nearly hours drive home school vacation unusual call doctor monday morning say stick days school get morning days problem free agreeable emotional good thing cranky remember things overall behavior better try different medications far effective'"
      ]
     },
     "execution_count": 26,
     "metadata": {},
     "output_type": "execute_result"
    }
   ],
   "source": [
    "# tf-idf vectorizer needs sentences.stiching back lemmatized words\n",
    "clean_data=[]\n",
    "\n",
    "for review in lmt_reviews:\n",
    "    t=''\n",
    "    for word in review:\n",
    "        t+=' '+word\n",
    "    clean_data.append(t.strip())\n",
    "clean_data=pd.Series(clean_data)\n",
    "clean_data[1]"
   ]
  },
  {
   "cell_type": "code",
   "execution_count": 27,
   "metadata": {},
   "outputs": [
    {
     "name": "stdout",
     "output_type": "stream",
     "text": [
      "(32165, 118)\n",
      "Wall time: 9.47 s\n"
     ]
    }
   ],
   "source": [
    "%%time\n",
    "from sklearn.feature_extraction.text import TfidfVectorizer\n",
    "vect=TfidfVectorizer(max_df=0.95,max_features=21000,min_df=0.05,use_idf=True,ngram_range=(1,3))\n",
    "tfidf_matrix=vect.fit_transform(clean_data)\n",
    "print(tfidf_matrix.shape)\n",
    "terms=vect.get_feature_names()"
   ]
  },
  {
   "cell_type": "code",
   "execution_count": 28,
   "metadata": {},
   "outputs": [],
   "source": [
    "tfidf=pd.DataFrame(tfidf_matrix.toarray(),columns=terms)\n",
    "tfidf.drop(['039','ve'],axis=1,inplace=True)"
   ]
  },
  {
   "cell_type": "markdown",
   "metadata": {},
   "source": [
    "## K Means Clustering"
   ]
  },
  {
   "cell_type": "code",
   "execution_count": 29,
   "metadata": {},
   "outputs": [],
   "source": [
    "sum_square_dist=[]\n",
    "num_cluster=range(1,15)\n",
    "for k in num_cluster:\n",
    "    cluster_model=KMeans(n_clusters=k,random_state=23)\n",
    "    cluster_model.fit(tfidf)\n",
    "    sum_square_dist.append(cluster_model.inertia_)"
   ]
  },
  {
   "cell_type": "code",
   "execution_count": 30,
   "metadata": {},
   "outputs": [
    {
     "name": "stderr",
     "output_type": "stream",
     "text": [
      "findfont: Font family ['normal'] not found. Falling back to DejaVu Sans.\n",
      "findfont: Font family ['normal'] not found. Falling back to DejaVu Sans.\n",
      "findfont: Font family ['normal'] not found. Falling back to DejaVu Sans.\n"
     ]
    },
    {
     "data": {
      "image/png": "[encoded data removed]",
      "text/plain": [
       "<Figure size 432x288 with 1 Axes>"
      ]
     },
     "metadata": {
      "needs_background": "light"
     },
     "output_type": "display_data"
    }
   ],
   "source": [
    "font={'family':'normal','weight':'bold','size':10}\n",
    "plt.rc('font',**font)\n",
    "plt.plot(num_cluster,sum_square_dist,'bx--')\n",
    "plt.xlabel('number of clusters')\n",
    "plt.ylabel('sum of squared errors')\n",
    "plt.title('finding optimal number of clusters')\n",
    "plt.grid()"
   ]
  },
  {
   "cell_type": "raw",
   "metadata": {},
   "source": [
    "10 clusters seem to accurate"
   ]
  },
  {
   "cell_type": "code",
   "execution_count": 31,
   "metadata": {},
   "outputs": [],
   "source": [
    "num_clusters=10\n",
    "km=KMeans(n_clusters=num_clusters,random_state=23)\n",
    "km.fit(tfidf_matrix)\n",
    "clusters=km.labels_.tolist()\n",
    "centers=km.cluster_centers_"
   ]
  },
  {
   "cell_type": "code",
   "execution_count": 32,
   "metadata": {},
   "outputs": [
    {
     "data": {
      "text/plain": [
       "array([[  0,   1, 108, ...,  88,  58,  85],\n",
       "       [ 85,   0, 101, ..., 113,  12,  94],\n",
       "       [  0,  55,  56, ...,  12, 113,  85],\n",
       "       ...,\n",
       "       [  5,  25,   0, ...,  22,  13,  94],\n",
       "       [ 93,  75,   0, ...,  12,  94,  13],\n",
       "       [ 80,   0,  82, ...,  68,  93,  32]], dtype=int64)"
      ]
     },
     "execution_count": 32,
     "metadata": {},
     "output_type": "execute_result"
    }
   ],
   "source": [
    "#getting cluster centers\n",
    "km.cluster_centers_.argsort()[:,::-1]"
   ]
  },
  {
   "cell_type": "code",
   "execution_count": 35,
   "metadata": {},
   "outputs": [
    {
     "name": "stdout",
     "output_type": "stream",
     "text": [
      "Top terms per cluster:\n",
      "\n",
      "\n",
      "Top words in Cluster-0 :\n",
      "\n",
      "['039'],['039', 've'],['ve'],['take'],['years'],['effect'],['months'],['get'],['time'],['start'],\n",
      "\n",
      "Top words in Cluster-1 :\n",
      "\n",
      "['quot'],['039'],['take'],['feel'],['years'],['day'],['work'],['effect'],['time'],['like'],\n",
      "\n",
      "Top words in Cluster-2 :\n",
      "\n",
      "['039'],['it'],['it', '039'],['don', '039'],['don'],['feel'],['take'],['like'],['day'],['work'],\n",
      "\n",
      "Top words in Cluster-3 :\n",
      "\n",
      "['medicine'],['take'],['effect'],['work'],['039'],['years'],['help'],['day'],['pain'],['time'],\n",
      "\n",
      "Top words in Cluster-4 :\n",
      "\n",
      "['pain'],['039'],['take'],['day'],['work'],['help'],['severe'],['go'],['effect'],['doctor'],\n",
      "\n",
      "Top words in Cluster-5 :\n",
      "\n",
      "['work'],['great'],['039'],['take'],['effect'],['try'],['years'],['medication'],['time'],['day'],\n",
      "\n",
      "Top words in Cluster-6 :\n",
      "\n",
      "['take'],['effect'],['day'],['start'],['years'],['feel'],['039'],['go'],['medication'],['days'],\n",
      "\n",
      "Top words in Cluster-7 :\n",
      "\n",
      "['anxiety'],['depression'],['039'],['feel'],['take'],['help'],['life'],['effect'],['start'],['medication'],\n",
      "\n",
      "Top words in Cluster-8 :\n",
      "\n",
      "['sleep'],['night'],['039'],['take'],['hours'],['help'],['day'],['work'],['feel'],['time'],\n",
      "\n",
      "Top words in Cluster-9 :\n",
      "\n",
      "['period'],['039'],['pill'],['birth'],['birth', 'control'],['control'],['bleed'],['get'],['months'],['gain'],"
     ]
    }
   ],
   "source": [
    "# seeing top words in a cluster\n",
    "print(\"Top terms per cluster:\")\n",
    "order_centroids = km.cluster_centers_.argsort()[:, ::-1] \n",
    "for i in range(num_clusters):\n",
    "    print(\"\\n\")\n",
    "    print(\"Top words in Cluster-%d :\" % i, end='')\n",
    "    print(\"\\n\")\n",
    "    for ind in order_centroids[i, :10]: #replace 10 with n words per cluster\n",
    "        print('%s' % terms[ind].split(' '), end=',')"
   ]
  },
  {
   "cell_type": "code",
   "execution_count": 42,
   "metadata": {},
   "outputs": [],
   "source": [
    "df_train['review_group']=['cluster_'+str(x) for x in clusters]\n",
    "columns_to_drop=['name_of_drug','review_by_patient']\n",
    "#df_train.drop(columns_to_drop,axis=1,inplace=True)"
   ]
  },
  {
   "cell_type": "code",
   "execution_count": 41,
   "metadata": {},
   "outputs": [
    {
     "data": {
      "text/html": [
       "<div>\n",
       "<style scoped>\n",
       "    .dataframe tbody tr th:only-of-type {\n",
       "        vertical-align: middle;\n",
       "    }\n",
       "\n",
       "    .dataframe tbody tr th {\n",
       "        vertical-align: top;\n",
       "    }\n",
       "\n",
       "    .dataframe thead th {\n",
       "        text-align: right;\n",
       "    }\n",
       "</style>\n",
       "<table border=\"1\" class=\"dataframe\">\n",
       "  <thead>\n",
       "    <tr style=\"text-align: right;\">\n",
       "      <th></th>\n",
       "      <th>use_case_for_drug</th>\n",
       "      <th>effectiveness_rating</th>\n",
       "      <th>drug_approved_by_UIC</th>\n",
       "      <th>number_of_times_prescribed</th>\n",
       "      <th>base_score</th>\n",
       "      <th>drug_frequency</th>\n",
       "      <th>review_group</th>\n",
       "    </tr>\n",
       "    <tr>\n",
       "      <th>patient_id</th>\n",
       "      <th></th>\n",
       "      <th></th>\n",
       "      <th></th>\n",
       "      <th></th>\n",
       "      <th></th>\n",
       "      <th></th>\n",
       "      <th></th>\n",
       "    </tr>\n",
       "  </thead>\n",
       "  <tbody>\n",
       "    <tr>\n",
       "      <th>206461</th>\n",
       "      <td>rare</td>\n",
       "      <td>9</td>\n",
       "      <td>1547</td>\n",
       "      <td>27</td>\n",
       "      <td>8.022969</td>\n",
       "      <td>15</td>\n",
       "      <td>cluster_6</td>\n",
       "    </tr>\n",
       "    <tr>\n",
       "      <th>95260</th>\n",
       "      <td>ADHD</td>\n",
       "      <td>8</td>\n",
       "      <td>793</td>\n",
       "      <td>192</td>\n",
       "      <td>7.858458</td>\n",
       "      <td>23</td>\n",
       "      <td>cluster_6</td>\n",
       "    </tr>\n",
       "    <tr>\n",
       "      <th>92703</th>\n",
       "      <td>Birth Control</td>\n",
       "      <td>5</td>\n",
       "      <td>659</td>\n",
       "      <td>17</td>\n",
       "      <td>6.341969</td>\n",
       "      <td>2</td>\n",
       "      <td>cluster_9</td>\n",
       "    </tr>\n",
       "    <tr>\n",
       "      <th>35696</th>\n",
       "      <td>Opiate Dependence</td>\n",
       "      <td>9</td>\n",
       "      <td>3199</td>\n",
       "      <td>37</td>\n",
       "      <td>6.590176</td>\n",
       "      <td>88</td>\n",
       "      <td>cluster_2</td>\n",
       "    </tr>\n",
       "    <tr>\n",
       "      <th>155963</th>\n",
       "      <td>Benign Prostatic Hyperplasia</td>\n",
       "      <td>2</td>\n",
       "      <td>2834</td>\n",
       "      <td>43</td>\n",
       "      <td>6.144782</td>\n",
       "      <td>68</td>\n",
       "      <td>cluster_5</td>\n",
       "    </tr>\n",
       "  </tbody>\n",
       "</table>\n",
       "</div>"
      ],
      "text/plain": [
       "                       use_case_for_drug  effectiveness_rating  \\\n",
       "patient_id                                                       \n",
       "206461                              rare                     9   \n",
       "95260                               ADHD                     8   \n",
       "92703                      Birth Control                     5   \n",
       "35696                  Opiate Dependence                     9   \n",
       "155963      Benign Prostatic Hyperplasia                     2   \n",
       "\n",
       "            drug_approved_by_UIC  number_of_times_prescribed  base_score  \\\n",
       "patient_id                                                                 \n",
       "206461                      1547                          27    8.022969   \n",
       "95260                        793                         192    7.858458   \n",
       "92703                        659                          17    6.341969   \n",
       "35696                       3199                          37    6.590176   \n",
       "155963                      2834                          43    6.144782   \n",
       "\n",
       "            drug_frequency review_group  \n",
       "patient_id                               \n",
       "206461                  15    cluster_6  \n",
       "95260                   23    cluster_6  \n",
       "92703                    2    cluster_9  \n",
       "35696                   88    cluster_2  \n",
       "155963                  68    cluster_5  "
      ]
     },
     "execution_count": 41,
     "metadata": {},
     "output_type": "execute_result"
    }
   ],
   "source": [
    "df_train.head()"
   ]
  },
  {
   "cell_type": "code",
   "execution_count": 43,
   "metadata": {},
   "outputs": [
    {
     "data": {
      "text/plain": [
       "<matplotlib.axes._subplots.AxesSubplot at 0x15a9bf9b608>"
      ]
     },
     "execution_count": 43,
     "metadata": {},
     "output_type": "execute_result"
    },
    {
     "data": {
      "image/png": "[encoded data removed]",
      "text/plain": [
       "<Figure size 432x288 with 1 Axes>"
      ]
     },
     "metadata": {
      "needs_background": "light"
     },
     "output_type": "display_data"
    }
   ],
   "source": [
    "sns.distplot(df_train['effectiveness_rating'])"
   ]
  },
  {
   "cell_type": "code",
   "execution_count": 44,
   "metadata": {},
   "outputs": [
    {
     "data": {
      "text/plain": [
       "<matplotlib.axes._subplots.AxesSubplot at 0x15a9757e788>"
      ]
     },
     "execution_count": 44,
     "metadata": {},
     "output_type": "execute_result"
    },
    {
     "data": {
      "image/png": "[encoded data removed]",
      "text/plain": [
       "<Figure size 432x288 with 1 Axes>"
      ]
     },
     "metadata": {
      "needs_background": "light"
     },
     "output_type": "display_data"
    }
   ],
   "source": [
    "sns.distplot(df_train['base_score'],bins=25)"
   ]
  },
  {
   "cell_type": "code",
   "execution_count": 45,
   "metadata": {},
   "outputs": [
    {
     "data": {
      "text/plain": [
       "cluster_6    9394\n",
       "cluster_9    4165\n",
       "cluster_2    4086\n",
       "cluster_0    3440\n",
       "cluster_4    2500\n",
       "cluster_5    1969\n",
       "cluster_7    1875\n",
       "cluster_3    1752\n",
       "cluster_8    1557\n",
       "cluster_1    1427\n",
       "Name: review_group, dtype: int64"
      ]
     },
     "execution_count": 45,
     "metadata": {},
     "output_type": "execute_result"
    }
   ],
   "source": [
    "df_train['review_group'].value_counts()\n"
   ]
  },
  {
   "cell_type": "markdown",
   "metadata": {},
   "source": [
    "### Train-Test Split"
   ]
  },
  {
   "cell_type": "code",
   "execution_count": 46,
   "metadata": {},
   "outputs": [
    {
     "name": "stdout",
     "output_type": "stream",
     "text": [
      "(28948, 6) (28948,)\n",
      "(3217, 6) (3217,)\n"
     ]
    }
   ],
   "source": [
    "X,y=df_train.loc[:,df_train.columns!='base_score'],df_train['base_score']\n",
    "X_train,X_test,y_train,y_test=train_test_split(X,y,test_size=0.1,random_state=123)\n",
    "print(X_train.shape,y_train.shape)\n",
    "print(X_test.shape,y_test.shape)"
   ]
  },
  {
   "cell_type": "code",
   "execution_count": 47,
   "metadata": {},
   "outputs": [],
   "source": [
    "numattr=['drug_approved_by_UIC','number_of_times_prescribed','drug_frequency']\n",
    "catattr=X_train.columns.difference(numattr)\n",
    "df_train[catattr]=df_train[catattr].astype('category')"
   ]
  },
  {
   "cell_type": "code",
   "execution_count": 48,
   "metadata": {},
   "outputs": [
    {
     "data": {
      "text/html": [
       "<div>\n",
       "<style scoped>\n",
       "    .dataframe tbody tr th:only-of-type {\n",
       "        vertical-align: middle;\n",
       "    }\n",
       "\n",
       "    .dataframe tbody tr th {\n",
       "        vertical-align: top;\n",
       "    }\n",
       "\n",
       "    .dataframe thead th {\n",
       "        text-align: right;\n",
       "    }\n",
       "</style>\n",
       "<table border=\"1\" class=\"dataframe\">\n",
       "  <thead>\n",
       "    <tr style=\"text-align: right;\">\n",
       "      <th></th>\n",
       "      <th>use_case_for_drug</th>\n",
       "      <th>effectiveness_rating</th>\n",
       "      <th>drug_approved_by_UIC</th>\n",
       "      <th>number_of_times_prescribed</th>\n",
       "      <th>drug_frequency</th>\n",
       "      <th>review_group</th>\n",
       "    </tr>\n",
       "    <tr>\n",
       "      <th>patient_id</th>\n",
       "      <th></th>\n",
       "      <th></th>\n",
       "      <th></th>\n",
       "      <th></th>\n",
       "      <th></th>\n",
       "      <th></th>\n",
       "    </tr>\n",
       "  </thead>\n",
       "  <tbody>\n",
       "    <tr>\n",
       "      <th>19854</th>\n",
       "      <td>Pain</td>\n",
       "      <td>9</td>\n",
       "      <td>252</td>\n",
       "      <td>84</td>\n",
       "      <td>112</td>\n",
       "      <td>cluster_4</td>\n",
       "    </tr>\n",
       "    <tr>\n",
       "      <th>160128</th>\n",
       "      <td>rare</td>\n",
       "      <td>8</td>\n",
       "      <td>3129</td>\n",
       "      <td>4</td>\n",
       "      <td>12</td>\n",
       "      <td>cluster_9</td>\n",
       "    </tr>\n",
       "    <tr>\n",
       "      <th>231525</th>\n",
       "      <td>Depression</td>\n",
       "      <td>1</td>\n",
       "      <td>2899</td>\n",
       "      <td>36</td>\n",
       "      <td>124</td>\n",
       "      <td>cluster_2</td>\n",
       "    </tr>\n",
       "    <tr>\n",
       "      <th>191799</th>\n",
       "      <td>Birth Control</td>\n",
       "      <td>10</td>\n",
       "      <td>3414</td>\n",
       "      <td>12</td>\n",
       "      <td>166</td>\n",
       "      <td>cluster_9</td>\n",
       "    </tr>\n",
       "    <tr>\n",
       "      <th>219764</th>\n",
       "      <td>Pain</td>\n",
       "      <td>10</td>\n",
       "      <td>3270</td>\n",
       "      <td>77</td>\n",
       "      <td>152</td>\n",
       "      <td>cluster_8</td>\n",
       "    </tr>\n",
       "  </tbody>\n",
       "</table>\n",
       "</div>"
      ],
      "text/plain": [
       "           use_case_for_drug  effectiveness_rating  drug_approved_by_UIC  \\\n",
       "patient_id                                                                 \n",
       "19854                   Pain                     9                   252   \n",
       "160128                  rare                     8                  3129   \n",
       "231525            Depression                     1                  2899   \n",
       "191799         Birth Control                    10                  3414   \n",
       "219764                  Pain                    10                  3270   \n",
       "\n",
       "            number_of_times_prescribed  drug_frequency review_group  \n",
       "patient_id                                                           \n",
       "19854                               84             112    cluster_4  \n",
       "160128                               4              12    cluster_9  \n",
       "231525                              36             124    cluster_2  \n",
       "191799                              12             166    cluster_9  \n",
       "219764                              77             152    cluster_8  "
      ]
     },
     "execution_count": 48,
     "metadata": {},
     "output_type": "execute_result"
    }
   ],
   "source": [
    "X_train.head()"
   ]
  },
  {
   "cell_type": "markdown",
   "metadata": {},
   "source": [
    "### Model Building"
   ]
  },
  {
   "cell_type": "code",
   "execution_count": 50,
   "metadata": {},
   "outputs": [],
   "source": [
    "# Pipeline\n",
    "num_transformer=Pipeline(steps=[\n",
    "    ('scaler',StandardScaler())\n",
    "])\n",
    "cat_transformer=Pipeline(steps=[\n",
    "    ('onehot',OneHotEncoder(handle_unknown='ignore'))\n",
    "])\n",
    "preprocessor=ColumnTransformer(transformers=[\n",
    "    ('num',num_transformer,numattr),\n",
    "    ('cat',cat_transformer,catattr)\n",
    "])\n",
    "preprocessor.fit(X_train)\n",
    "X_train1=preprocessor.transform(X_train)\n",
    "X_test1=preprocessor.transform(X_test)"
   ]
  },
  {
   "cell_type": "code",
   "execution_count": 67,
   "metadata": {},
   "outputs": [
    {
     "data": {
      "text/plain": [
       "(28948, 176)"
      ]
     },
     "execution_count": 67,
     "metadata": {},
     "output_type": "execute_result"
    }
   ],
   "source": [
    "X_train1.shape"
   ]
  },
  {
   "cell_type": "code",
   "execution_count": 52,
   "metadata": {},
   "outputs": [
    {
     "data": {
      "text/plain": [
       "LinearRegression(copy_X=True, fit_intercept=True, n_jobs=None, normalize=False)"
      ]
     },
     "execution_count": 52,
     "metadata": {},
     "output_type": "execute_result"
    }
   ],
   "source": [
    "from sklearn.linear_model import LinearRegression\n",
    "reg1=LinearRegression()\n",
    "\n",
    "reg1.fit(X_train1,y_train)"
   ]
  },
  {
   "cell_type": "code",
   "execution_count": 63,
   "metadata": {},
   "outputs": [
    {
     "name": "stdout",
     "output_type": "stream",
     "text": [
      "train_score: -0.14771973251894455\n",
      "test_score: -0.13280681773893277\n"
     ]
    }
   ],
   "source": [
    "pred_train=reg1.predict(X_train1)\n",
    "pred_test=reg1.predict(X_test1)\n",
    "train_score=1-sqrt(mean_squared_error(y_train,pred_train))\n",
    "test_score=1-sqrt(mean_squared_error(y_test,pred_test))\n",
    "print('train_score:',train_score)\n",
    "print('test_score:',test_score)"
   ]
  },
  {
   "cell_type": "code",
   "execution_count": 66,
   "metadata": {},
   "outputs": [
    {
     "data": {
      "text/plain": [
       "<matplotlib.collections.PathCollection at 0x15a9a8abbc8>"
      ]
     },
     "execution_count": 66,
     "metadata": {},
     "output_type": "execute_result"
    },
    {
     "data": {
      "image/png": "[encoded data removed]",
      "text/plain": [
       "<Figure size 1440x360 with 1 Axes>"
      ]
     },
     "metadata": {
      "needs_background": "light"
     },
     "output_type": "display_data"
    }
   ],
   "source": [
    "plt.figure(figsize=(20,5))\n",
    "plt.scatter(y_train,pred_train)"
   ]
  },
  {
   "cell_type": "code",
   "execution_count": 60,
   "metadata": {},
   "outputs": [
    {
     "data": {
      "text/plain": [
       "KNeighborsRegressor(algorithm='auto', leaf_size=30, metric='minkowski',\n",
       "                    metric_params=None, n_jobs=3, n_neighbors=6, p=2,\n",
       "                    weights='uniform')"
      ]
     },
     "execution_count": 60,
     "metadata": {},
     "output_type": "execute_result"
    }
   ],
   "source": [
    "from sklearn.neighbors import KNeighborsRegressor\n",
    "reg2=KNeighborsRegressor(n_neighbors=6,n_jobs=3)\n",
    "reg2.fit(X_train1,y_train)"
   ]
  },
  {
   "cell_type": "code",
   "execution_count": 61,
   "metadata": {},
   "outputs": [
    {
     "name": "stdout",
     "output_type": "stream",
     "text": [
      "train_score: -0.04456303617251067\n",
      "test_score: -0.22968145678123109\n"
     ]
    }
   ],
   "source": [
    "pred_train=reg2.predict(X_train1)\n",
    "pred_test=reg2.predict(X_test1)\n",
    "train_score=1-sqrt(mean_squared_error(y_train,pred_train))\n",
    "test_score=1-sqrt(mean_squared_error(y_test,pred_test))\n",
    "print('train_score:',train_score)\n",
    "print('test_score:',test_score)"
   ]
  },
  {
   "cell_type": "code",
   "execution_count": 70,
   "metadata": {},
   "outputs": [],
   "source": [
    "from sklearn.tree import DecisionTreeRegressor\n",
    "reg3=DecisionTreeRegressor(random_state=23)\n",
    "param_grid={'max_depth':[20,40,60,80],\n",
    "           'min_samples_split':[2,4,6],\n",
    "           'min_samples_leaf':[2,4,6]}\n",
    "kf=KFold(n_splits=3)\n",
    "dt_grid=GridSearchCV(reg3,param_grid=param_grid,cv=kf)"
   ]
  },
  {
   "cell_type": "code",
   "execution_count": 71,
   "metadata": {},
   "outputs": [
    {
     "name": "stdout",
     "output_type": "stream",
     "text": [
      "Wall time: 29.8 s\n"
     ]
    },
    {
     "data": {
      "text/plain": [
       "GridSearchCV(cv=KFold(n_splits=3, random_state=None, shuffle=False),\n",
       "             error_score=nan,\n",
       "             estimator=DecisionTreeRegressor(ccp_alpha=0.0, criterion='mse',\n",
       "                                             max_depth=None, max_features=None,\n",
       "                                             max_leaf_nodes=None,\n",
       "                                             min_impurity_decrease=0.0,\n",
       "                                             min_impurity_split=None,\n",
       "                                             min_samples_leaf=1,\n",
       "                                             min_samples_split=2,\n",
       "                                             min_weight_fraction_leaf=0.0,\n",
       "                                             presort='deprecated',\n",
       "                                             random_state=23, splitter='best'),\n",
       "             iid='deprecated', n_jobs=None,\n",
       "             param_grid={'max_depth': [20, 40, 60, 80],\n",
       "                         'min_samples_leaf': [2, 4, 6],\n",
       "                         'min_samples_split': [2, 4, 6]},\n",
       "             pre_dispatch='2*n_jobs', refit=True, return_train_score=False,\n",
       "             scoring=None, verbose=0)"
      ]
     },
     "execution_count": 71,
     "metadata": {},
     "output_type": "execute_result"
    }
   ],
   "source": [
    "%%time\n",
    "dt_grid.fit(X_train1,y_train)"
   ]
  },
  {
   "cell_type": "code",
   "execution_count": 72,
   "metadata": {},
   "outputs": [
    {
     "name": "stdout",
     "output_type": "stream",
     "text": [
      "train_score: 0.8582328399293254\n",
      "test_score: 0.7410206887472902\n"
     ]
    }
   ],
   "source": [
    "pred_train=dt_grid.predict(X_train1)\n",
    "pred_test=dt_grid.predict(X_test1)\n",
    "train_score=1-sqrt(mean_squared_error(y_train,pred_train))\n",
    "test_score=1-sqrt(mean_squared_error(y_test,pred_test))\n",
    "print('train_score:',train_score)\n",
    "print('test_score:',test_score)"
   ]
  },
  {
   "cell_type": "code",
   "execution_count": 74,
   "metadata": {},
   "outputs": [
    {
     "data": {
      "text/plain": [
       "Text(0, 0.5, 'predicted_values')"
      ]
     },
     "execution_count": 74,
     "metadata": {},
     "output_type": "execute_result"
    },
    {
     "data": {
      "image/png": "[encoded data removed]",
      "text/plain": [
       "<Figure size 1440x360 with 1 Axes>"
      ]
     },
     "metadata": {
      "needs_background": "light"
     },
     "output_type": "display_data"
    }
   ],
   "source": [
    "plt.figure(figsize=(20,5))\n",
    "plt.scatter(y_train,pred_train)\n",
    "plt.xlabel('True_values')\n",
    "plt.ylabel('predicted_values')"
   ]
  },
  {
   "cell_type": "code",
   "execution_count": 76,
   "metadata": {},
   "outputs": [],
   "source": [
    "from sklearn.ensemble import RandomForestRegressor\n",
    "rf=RandomForestRegressor(random_state=23,n_jobs=3)\n",
    "param_grid={'max_depth':[20,40,60,80],\n",
    "           'min_samples_split':[2,4,6],\n",
    "           'min_samples_leaf':[2,4,6],\n",
    "           'n_estimators':[100,200,400]}\n",
    "kf=KFold(n_splits=3)\n",
    "rf_grid=GridSearchCV(rf,param_grid=param_grid,cv=kf)"
   ]
  },
  {
   "cell_type": "code",
   "execution_count": 77,
   "metadata": {},
   "outputs": [
    {
     "name": "stdout",
     "output_type": "stream",
     "text": [
      "Wall time: 1h 38min 5s\n"
     ]
    },
    {
     "data": {
      "text/plain": [
       "GridSearchCV(cv=KFold(n_splits=3, random_state=None, shuffle=False),\n",
       "             error_score=nan,\n",
       "             estimator=RandomForestRegressor(bootstrap=True, ccp_alpha=0.0,\n",
       "                                             criterion='mse', max_depth=None,\n",
       "                                             max_features='auto',\n",
       "                                             max_leaf_nodes=None,\n",
       "                                             max_samples=None,\n",
       "                                             min_impurity_decrease=0.0,\n",
       "                                             min_impurity_split=None,\n",
       "                                             min_samples_leaf=1,\n",
       "                                             min_samples_split=2,\n",
       "                                             min_weight_fraction_leaf=0.0,\n",
       "                                             n_estimators=100, n_jobs=3,\n",
       "                                             oob_score=False, random_state=23,\n",
       "                                             verbose=0, warm_start=False),\n",
       "             iid='deprecated', n_jobs=None,\n",
       "             param_grid={'max_depth': [20, 40, 60, 80],\n",
       "                         'min_samples_leaf': [2, 4, 6],\n",
       "                         'min_samples_split': [2, 4, 6],\n",
       "                         'n_estimators': [100, 200, 400]},\n",
       "             pre_dispatch='2*n_jobs', refit=True, return_train_score=False,\n",
       "             scoring=None, verbose=0)"
      ]
     },
     "execution_count": 77,
     "metadata": {},
     "output_type": "execute_result"
    }
   ],
   "source": [
    "%%time\n",
    "rf_grid.fit(X_train1,y_train)"
   ]
  },
  {
   "cell_type": "code",
   "execution_count": 79,
   "metadata": {},
   "outputs": [
    {
     "name": "stdout",
     "output_type": "stream",
     "text": [
      "train_score: 0.8903417049602995\n",
      "test_score: 0.78075241698608\n"
     ]
    }
   ],
   "source": [
    "pred_train=rf_grid.predict(X_train1)\n",
    "pred_test=rf_grid.predict(X_test1)\n",
    "train_score=1-sqrt(mean_squared_error(y_train,pred_train))\n",
    "test_score=1-sqrt(mean_squared_error(y_test,pred_test))\n",
    "print('train_score:',train_score)\n",
    "print('test_score:',test_score)"
   ]
  },
  {
   "cell_type": "code",
   "execution_count": 80,
   "metadata": {},
   "outputs": [
    {
     "data": {
      "text/plain": [
       "Text(0, 0.5, 'predicted_values')"
      ]
     },
     "execution_count": 80,
     "metadata": {},
     "output_type": "execute_result"
    },
    {
     "data": {
      "image/png": "[encoded data removed]",
      "text/plain": [
       "<Figure size 1440x360 with 1 Axes>"
      ]
     },
     "metadata": {
      "needs_background": "light"
     },
     "output_type": "display_data"
    }
   ],
   "source": [
    "plt.figure(figsize=(20,5))\n",
    "plt.scatter(y_train,pred_train)\n",
    "plt.xlabel('True_values')\n",
    "plt.ylabel('predicted_values')"
   ]
  },
  {
   "cell_type": "code",
   "execution_count": 85,
   "metadata": {},
   "outputs": [
    {
     "data": {
      "text/plain": [
       "['rf_model.sav']"
      ]
     },
     "execution_count": 85,
     "metadata": {},
     "output_type": "execute_result"
    }
   ],
   "source": [
    "''''''import joblib\n",
    "filename='rf_model.sav'\n",
    "joblib.dump(rf_grid,filename)"
   ]
  },
  {
   "cell_type": "code",
   "execution_count": 87,
   "metadata": {},
   "outputs": [
    {
     "data": {
      "text/plain": [
       "array([8.19329814, 8.75684881, 3.81286603, ..., 7.60646542, 6.25662356,\n",
       "       6.33531735])"
      ]
     },
     "execution_count": 87,
     "metadata": {},
     "output_type": "execute_result"
    }
   ],
   "source": [
    "rf_model=joblib.load('rf_model.sav')\n"
   ]
  }
 ],
 "metadata": {
  "kernelspec": {
   "display_name": "Python 3",
   "language": "python",
   "name": "python3"
  },
  "language_info": {
   "codemirror_mode": {
    "name": "ipython",
    "version": 3
   },
   "file_extension": ".py",
   "mimetype": "text/x-python",
   "name": "python",
   "nbconvert_exporter": "python",
   "pygments_lexer": "ipython3",
   "version": "3.7.7"
  }
 },
 "nbformat": 4,
 "nbformat_minor": 2
}
